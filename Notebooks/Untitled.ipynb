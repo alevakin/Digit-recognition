{
 "cells": [
  {
   "cell_type": "markdown",
   "metadata": {},
   "source": [
    "# Simple Digit Recognition Model using Neural Networks"
   ]
  },
  {
   "cell_type": "markdown",
   "metadata": {},
   "source": [
    "### Import all necessary libraries"
   ]
  },
  {
   "cell_type": "code",
   "execution_count": 165,
   "metadata": {},
   "outputs": [],
   "source": [
    "import random\n",
    "from keras.datasets import mnist\n",
    "from keras.models import Sequential\n",
    "from keras.layers import Dense, Conv2D, Dropout, Flatten, MaxPooling2D\n",
    "import matplotlib.pyplot as plt\n",
    "import numpy as np\n",
    "from PIL import Image"
   ]
  },
  {
   "cell_type": "markdown",
   "metadata": {},
   "source": [
    "### Load the MNIST dataset"
   ]
  },
  {
   "cell_type": "code",
   "execution_count": 166,
   "metadata": {},
   "outputs": [],
   "source": [
    "(x_train, y_train), (x_test, y_test) = mnist.load_data()"
   ]
  },
  {
   "cell_type": "code",
   "execution_count": 167,
   "metadata": {},
   "outputs": [
    {
     "name": "stdout",
     "output_type": "stream",
     "text": [
      "x_train shape is (60000, 28, 28)\n",
      "y_train shape is (60000,)\n",
      "x_test shape is (10000, 28, 28)\n",
      "y_test shape is (10000,)\n"
     ]
    }
   ],
   "source": [
    "print(\"x_train shape is\", x_train.shape)\n",
    "print(\"y_train shape is\", y_train.shape)\n",
    "print(\"x_test shape is\", x_test.shape)\n",
    "print(\"y_test shape is\", y_test.shape)"
   ]
  },
  {
   "cell_type": "code",
   "execution_count": 168,
   "metadata": {},
   "outputs": [
    {
     "data": {
      "image/png": "[encoded data removed]",
      "text/plain": [
       "<Figure size 432x288 with 4 Axes>"
      ]
     },
     "metadata": {
      "needs_background": "light"
     },
     "output_type": "display_data"
    }
   ],
   "source": [
    "numberOfSamples = x_train.shape[0]\n",
    "\n",
    "plt.subplot(221)\n",
    "plt.imshow(x_train[random.randint(0, numberOfSamples)], cmap=plt.get_cmap('Greys'))\n",
    "plt.subplot(222)\n",
    "plt.imshow(x_train[random.randint(0, numberOfSamples)], cmap=plt.get_cmap('Greys'))\n",
    "plt.subplot(223)\n",
    "plt.imshow(x_train[random.randint(0, numberOfSamples)], cmap=plt.get_cmap('Greys'))\n",
    "plt.subplot(224)\n",
    "plt.imshow(x_train[random.randint(0,numberOfSamples)], cmap=plt.get_cmap('Greys'))\n",
    "plt.show()"
   ]
  },
  {
   "cell_type": "markdown",
   "metadata": {},
   "source": [
    "### Reshape and normalize data"
   ]
  },
  {
   "cell_type": "code",
   "execution_count": 169,
   "metadata": {},
   "outputs": [],
   "source": [
    "x_train = x_train.reshape(x_train.shape[0], 28, 28, 1)\n",
    "x_test = x_test.reshape(x_test.shape[0], 28, 28, 1)\n",
    "\n",
    "x_train = x_train.astype('float32')\n",
    "x_test = x_test.astype('float32')\n",
    "\n",
    "x_train /= 255\n",
    "x_test /= 255"
   ]
  },
  {
   "cell_type": "code",
   "execution_count": 170,
   "metadata": {},
   "outputs": [
    {
     "name": "stdout",
     "output_type": "stream",
     "text": [
      "x_train shape after reshaping is (60000, 28, 28, 1)\n",
      "x_test shape after reshaping is (10000, 28, 28, 1)\n"
     ]
    }
   ],
   "source": [
    "print(\"x_train shape after reshaping is\", x_train.shape)\n",
    "print(\"x_test shape after reshaping is\", x_test.shape)"
   ]
  },
  {
   "cell_type": "markdown",
   "metadata": {},
   "source": [
    "### Create Model"
   ]
  },
  {
   "cell_type": "code",
   "execution_count": 171,
   "metadata": {},
   "outputs": [],
   "source": [
    "def createModel():\n",
    "    model = Sequential()\n",
    "    model.add(Conv2D(28, kernel_size=(3,3), input_shape=(28,28,1)))\n",
    "    model.add(MaxPooling2D(pool_size=(2, 2)))\n",
    "    model.add(Flatten())\n",
    "    model.add(Dense(128, activation='relu'))\n",
    "    model.add(Dropout(0.2))\n",
    "    model.add(Dense(10,activation='softmax'))\n",
    "    model.compile(optimizer='adam', loss='sparse_categorical_crossentropy', metrics=['accuracy'])\n",
    "    return model"
   ]
  },
  {
   "cell_type": "code",
   "execution_count": 172,
   "metadata": {},
   "outputs": [],
   "source": [
    "model = createModel()"
   ]
  },
  {
   "cell_type": "markdown",
   "metadata": {},
   "source": [
    "### Fit and evaluate Model"
   ]
  },
  {
   "cell_type": "code",
   "execution_count": 173,
   "metadata": {},
   "outputs": [
    {
     "name": "stdout",
     "output_type": "stream",
     "text": [
      "Train on 60000 samples, validate on 10000 samples\n",
      "Epoch 1/15\n",
      "60000/60000 [==============================] - 41s 681us/step - loss: 0.2076 - accuracy: 0.9372 - val_loss: 0.0877 - val_accuracy: 0.9721\n",
      "Epoch 2/15\n",
      "60000/60000 [==============================] - 41s 679us/step - loss: 0.0840 - accuracy: 0.9745 - val_loss: 0.0620 - val_accuracy: 0.9811\n",
      "Epoch 3/15\n",
      "60000/60000 [==============================] - 41s 687us/step - loss: 0.0584 - accuracy: 0.9818 - val_loss: 0.0720 - val_accuracy: 0.9779\n",
      "Epoch 4/15\n",
      "60000/60000 [==============================] - 44s 729us/step - loss: 0.0451 - accuracy: 0.9853 - val_loss: 0.0538 - val_accuracy: 0.9836\n",
      "Epoch 5/15\n",
      "60000/60000 [==============================] - 40s 667us/step - loss: 0.0362 - accuracy: 0.9876 - val_loss: 0.0539 - val_accuracy: 0.9832\n",
      "Epoch 6/15\n",
      "60000/60000 [==============================] - 40s 667us/step - loss: 0.0305 - accuracy: 0.9896 - val_loss: 0.0636 - val_accuracy: 0.9836\n",
      "Epoch 7/15\n",
      "60000/60000 [==============================] - 46s 766us/step - loss: 0.0238 - accuracy: 0.9918 - val_loss: 0.0722 - val_accuracy: 0.9831\n",
      "Epoch 8/15\n",
      "60000/60000 [==============================] - 44s 732us/step - loss: 0.0227 - accuracy: 0.9921 - val_loss: 0.0677 - val_accuracy: 0.9830\n",
      "Epoch 9/15\n",
      "60000/60000 [==============================] - 46s 767us/step - loss: 0.0205 - accuracy: 0.9927 - val_loss: 0.0673 - val_accuracy: 0.9845\n",
      "Epoch 10/15\n",
      "60000/60000 [==============================] - 43s 709us/step - loss: 0.0191 - accuracy: 0.9934 - val_loss: 0.0633 - val_accuracy: 0.9851\n",
      "Epoch 11/15\n",
      "60000/60000 [==============================] - 41s 687us/step - loss: 0.0157 - accuracy: 0.9945 - val_loss: 0.0690 - val_accuracy: 0.9842\n",
      "Epoch 12/15\n",
      "60000/60000 [==============================] - 41s 688us/step - loss: 0.0159 - accuracy: 0.9948 - val_loss: 0.0701 - val_accuracy: 0.9846\n",
      "Epoch 13/15\n",
      "60000/60000 [==============================] - 44s 739us/step - loss: 0.0145 - accuracy: 0.9952 - val_loss: 0.0769 - val_accuracy: 0.9826\n",
      "Epoch 14/15\n",
      "60000/60000 [==============================] - 42s 697us/step - loss: 0.0131 - accuracy: 0.9955 - val_loss: 0.0844 - val_accuracy: 0.9840\n",
      "Epoch 15/15\n",
      "60000/60000 [==============================] - 46s 762us/step - loss: 0.0151 - accuracy: 0.9950 - val_loss: 0.0797 - val_accuracy: 0.9846\n"
     ]
    },
    {
     "data": {
      "text/plain": [
       "<keras.callbacks.callbacks.History at 0x143b91e10>"
      ]
     },
     "execution_count": 173,
     "metadata": {},
     "output_type": "execute_result"
    }
   ],
   "source": [
    "model.fit(x_train, y_train, validation_data=(x_test, y_test), epochs=15)"
   ]
  },
  {
   "cell_type": "code",
   "execution_count": 174,
   "metadata": {},
   "outputs": [
    {
     "name": "stdout",
     "output_type": "stream",
     "text": [
      "Accuracy: 98.46%\n"
     ]
    }
   ],
   "source": [
    "scores = model.evaluate(x_test, y_test, verbose=0)\n",
    "print(\"Accuracy: %.2f%%\" % (scores[1]*100))"
   ]
  },
  {
   "cell_type": "markdown",
   "metadata": {},
   "source": [
    "### Evaluate the model on my own Images"
   ]
  },
  {
   "cell_type": "code",
   "execution_count": 219,
   "metadata": {},
   "outputs": [],
   "source": [
    "def rgb2gray(rgb):\n",
    "    return np.dot(rgb[...,:3], [0.299, 0.587, 0.144])\n",
    "\n",
    "examples = []\n",
    "for i in range(0,10):\n",
    "    name = 'MyPictures/' + str(i) + '.png'\n",
    "    img = plt.imread(name)\n",
    "    gray = rgb2gray(1 - img)\n",
    "    examples.append(gray)"
   ]
  },
  {
   "cell_type": "code",
   "execution_count": 220,
   "metadata": {},
   "outputs": [
    {
     "data": {
      "text/plain": [
       "(28, 28)"
      ]
     },
     "execution_count": 220,
     "metadata": {},
     "output_type": "execute_result"
    }
   ],
   "source": [
    "examples[0].shape"
   ]
  },
  {
   "cell_type": "code",
   "execution_count": 221,
   "metadata": {},
   "outputs": [
    {
     "data": {
      "image/png": "[encoded data removed]",
      "text/plain": [
       "<Figure size 432x288 with 9 Axes>"
      ]
     },
     "metadata": {
      "needs_background": "light"
     },
     "output_type": "display_data"
    }
   ],
   "source": [
    "# Examples from 1 to 9\n",
    "plt.subplot(331)\n",
    "plt.imshow(examples[1], cmap=plt.get_cmap('Greys'))\n",
    "plt.subplot(332)\n",
    "plt.imshow(examples[2], cmap=plt.get_cmap('Greys'))\n",
    "plt.subplot(333)\n",
    "plt.imshow(examples[3], cmap=plt.get_cmap('Greys'))\n",
    "plt.subplot(334)\n",
    "plt.imshow(examples[4], cmap=plt.get_cmap('Greys'))\n",
    "plt.subplot(335)\n",
    "plt.imshow(examples[5], cmap=plt.get_cmap('Greys'))\n",
    "plt.subplot(336)\n",
    "plt.imshow(examples[6], cmap=plt.get_cmap('Greys'))\n",
    "plt.subplot(337)\n",
    "plt.imshow(examples[7], cmap=plt.get_cmap('Greys'))\n",
    "plt.subplot(338)\n",
    "plt.imshow(examples[8], cmap=plt.get_cmap('Greys'))\n",
    "plt.subplot(339)\n",
    "plt.imshow(examples[9], cmap=plt.get_cmap('Greys'))\n",
    "plt.show()"
   ]
  },
  {
   "cell_type": "code",
   "execution_count": 222,
   "metadata": {},
   "outputs": [],
   "source": [
    "reshapedExamples = []\n",
    "for ex in examples:\n",
    "    reshapedImage = ex.reshape(1, 28, 28, 1)\n",
    "    reshapedExamples.append(reshapedImage)"
   ]
  },
  {
   "cell_type": "code",
   "execution_count": 223,
   "metadata": {},
   "outputs": [
    {
     "data": {
      "text/plain": [
       "(1, 28, 28, 1)"
      ]
     },
     "execution_count": 223,
     "metadata": {},
     "output_type": "execute_result"
    }
   ],
   "source": [
    "reshapedExamples[0].shape"
   ]
  },
  {
   "cell_type": "code",
   "execution_count": 227,
   "metadata": {},
   "outputs": [
    {
     "name": "stdout",
     "output_type": "stream",
     "text": [
      "Expected 0 predicted 0\n",
      "Expected 1 predicted 1\n",
      "Expected 2 predicted 2\n",
      "Expected 3 predicted 3\n",
      "Expected 4 predicted 4\n",
      "Expected 5 predicted 5\n",
      "Expected 6 predicted 5\n",
      "Expected 7 predicted 3\n",
      "Expected 8 predicted 8\n",
      "Expected 9 predicted 9\n"
     ]
    }
   ],
   "source": [
    "for i in range(0, 10):\n",
    "    pred = model.predict(reshapedExamples[i].reshape(1,28,28,1))\n",
    "    print(\"Expected\", i, \"predicted\", pred.argmax())"
   ]
  },
  {
   "cell_type": "markdown",
   "metadata": {},
   "source": [
    "### Save the trained model"
   ]
  },
  {
   "cell_type": "code",
   "execution_count": 225,
   "metadata": {},
   "outputs": [],
   "source": [
    "model.save('my_model.h5')"
   ]
  }
 ],
 "metadata": {
  "kernelspec": {
   "display_name": "Python 3",
   "language": "python",
   "name": "python3"
  },
  "language_info": {
   "codemirror_mode": {
    "name": "ipython",
    "version": 3
   },
   "file_extension": ".py",
   "mimetype": "text/x-python",
   "name": "python",
   "nbconvert_exporter": "python",
   "pygments_lexer": "ipython3",
   "version": "3.7.4"
  }
 },
 "nbformat": 4,
 "nbformat_minor": 2
}
